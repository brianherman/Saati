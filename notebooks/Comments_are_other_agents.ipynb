{
 "cells": [
  {
   "cell_type": "code",
   "execution_count": 2,
   "metadata": {
    "colab": {
     "base_uri": "https://localhost:8080/"
    },
    "id": "Mnt9VwS9dViW",
    "outputId": "0a5f51ec-9e02-4b25-f0bf-756b93a921c0"
   },
   "outputs": [
    {
     "name": "stdout",
     "output_type": "stream",
     "text": [
      "Collecting transformers==3.4.0\n",
      "\u001b[?25l  Downloading https://files.pythonhosted.org/packages/2c/4e/4f1ede0fd7a36278844a277f8d53c21f88f37f3754abf76a5d6224f76d4a/transformers-3.4.0-py3-none-any.whl (1.3MB)\n",
      "\r",
      "\u001b[K     |▎                               | 10kB 24.3MB/s eta 0:00:01\r",
      "\u001b[K     |▌                               | 20kB 30.7MB/s eta 0:00:01\r",
      "\u001b[K     |▉                               | 30kB 22.5MB/s eta 0:00:01\r",
      "\u001b[K     |█                               | 40kB 17.5MB/s eta 0:00:01\r",
      "\u001b[K     |█▎                              | 51kB 15.0MB/s eta 0:00:01\r",
      "\u001b[K     |█▋                              | 61kB 16.8MB/s eta 0:00:01\r",
      "\u001b[K     |█▉                              | 71kB 13.6MB/s eta 0:00:01\r",
      "\u001b[K     |██                              | 81kB 14.3MB/s eta 0:00:01\r",
      "\u001b[K     |██▍                             | 92kB 14.5MB/s eta 0:00:01\r",
      "\u001b[K     |██▋                             | 102kB 13.4MB/s eta 0:00:01\r",
      "\u001b[K     |██▉                             | 112kB 13.4MB/s eta 0:00:01\r",
      "\u001b[K     |███▏                            | 122kB 13.4MB/s eta 0:00:01\r",
      "\u001b[K     |███▍                            | 133kB 13.4MB/s eta 0:00:01\r",
      "\u001b[K     |███▋                            | 143kB 13.4MB/s eta 0:00:01\r",
      "\u001b[K     |████                            | 153kB 13.4MB/s eta 0:00:01\r",
      "\u001b[K     |████▏                           | 163kB 13.4MB/s eta 0:00:01\r",
      "\u001b[K     |████▍                           | 174kB 13.4MB/s eta 0:00:01\r",
      "\u001b[K     |████▊                           | 184kB 13.4MB/s eta 0:00:01\r",
      "\u001b[K     |█████                           | 194kB 13.4MB/s eta 0:00:01\r",
      "\u001b[K     |█████▏                          | 204kB 13.4MB/s eta 0:00:01\r",
      "\u001b[K     |█████▌                          | 215kB 13.4MB/s eta 0:00:01\r",
      "\u001b[K     |█████▊                          | 225kB 13.4MB/s eta 0:00:01\r",
      "\u001b[K     |██████                          | 235kB 13.4MB/s eta 0:00:01\r",
      "\u001b[K     |██████▎                         | 245kB 13.4MB/s eta 0:00:01\r",
      "\u001b[K     |██████▌                         | 256kB 13.4MB/s eta 0:00:01\r",
      "\u001b[K     |██████▊                         | 266kB 13.4MB/s eta 0:00:01\r",
      "\u001b[K     |███████                         | 276kB 13.4MB/s eta 0:00:01\r",
      "\u001b[K     |███████▎                        | 286kB 13.4MB/s eta 0:00:01\r",
      "\u001b[K     |███████▋                        | 296kB 13.4MB/s eta 0:00:01\r",
      "\u001b[K     |███████▉                        | 307kB 13.4MB/s eta 0:00:01\r",
      "\u001b[K     |████████                        | 317kB 13.4MB/s eta 0:00:01\r",
      "\u001b[K     |████████▍                       | 327kB 13.4MB/s eta 0:00:01\r",
      "\u001b[K     |████████▋                       | 337kB 13.4MB/s eta 0:00:01\r",
      "\u001b[K     |████████▉                       | 348kB 13.4MB/s eta 0:00:01\r",
      "\u001b[K     |█████████▏                      | 358kB 13.4MB/s eta 0:00:01\r",
      "\u001b[K     |█████████▍                      | 368kB 13.4MB/s eta 0:00:01\r",
      "\u001b[K     |█████████▋                      | 378kB 13.4MB/s eta 0:00:01\r",
      "\u001b[K     |██████████                      | 389kB 13.4MB/s eta 0:00:01\r",
      "\u001b[K     |██████████▏                     | 399kB 13.4MB/s eta 0:00:01\r",
      "\u001b[K     |██████████▍                     | 409kB 13.4MB/s eta 0:00:01\r",
      "\u001b[K     |██████████▊                     | 419kB 13.4MB/s eta 0:00:01\r",
      "\u001b[K     |███████████                     | 430kB 13.4MB/s eta 0:00:01\r",
      "\u001b[K     |███████████▏                    | 440kB 13.4MB/s eta 0:00:01\r",
      "\u001b[K     |███████████▌                    | 450kB 13.4MB/s eta 0:00:01\r",
      "\u001b[K     |███████████▊                    | 460kB 13.4MB/s eta 0:00:01\r",
      "\u001b[K     |████████████                    | 471kB 13.4MB/s eta 0:00:01\r",
      "\u001b[K     |████████████▎                   | 481kB 13.4MB/s eta 0:00:01\r",
      "\u001b[K     |████████████▌                   | 491kB 13.4MB/s eta 0:00:01\r",
      "\u001b[K     |████████████▊                   | 501kB 13.4MB/s eta 0:00:01\r",
      "\u001b[K     |█████████████                   | 512kB 13.4MB/s eta 0:00:01\r",
      "\u001b[K     |█████████████▎                  | 522kB 13.4MB/s eta 0:00:01\r",
      "\u001b[K     |█████████████▌                  | 532kB 13.4MB/s eta 0:00:01\r",
      "\u001b[K     |█████████████▉                  | 542kB 13.4MB/s eta 0:00:01\r",
      "\u001b[K     |██████████████                  | 552kB 13.4MB/s eta 0:00:01\r",
      "\u001b[K     |██████████████▍                 | 563kB 13.4MB/s eta 0:00:01\r",
      "\u001b[K     |██████████████▋                 | 573kB 13.4MB/s eta 0:00:01\r",
      "\u001b[K     |██████████████▉                 | 583kB 13.4MB/s eta 0:00:01\r",
      "\u001b[K     |███████████████▏                | 593kB 13.4MB/s eta 0:00:01\r",
      "\u001b[K     |███████████████▍                | 604kB 13.4MB/s eta 0:00:01\r",
      "\u001b[K     |███████████████▋                | 614kB 13.4MB/s eta 0:00:01\r",
      "\u001b[K     |████████████████                | 624kB 13.4MB/s eta 0:00:01\r",
      "\u001b[K     |████████████████▏               | 634kB 13.4MB/s eta 0:00:01\r",
      "\u001b[K     |████████████████▍               | 645kB 13.4MB/s eta 0:00:01\r",
      "\u001b[K     |████████████████▊               | 655kB 13.4MB/s eta 0:00:01\r",
      "\u001b[K     |█████████████████               | 665kB 13.4MB/s eta 0:00:01\r",
      "\u001b[K     |█████████████████▏              | 675kB 13.4MB/s eta 0:00:01\r",
      "\u001b[K     |█████████████████▌              | 686kB 13.4MB/s eta 0:00:01\r",
      "\u001b[K     |█████████████████▊              | 696kB 13.4MB/s eta 0:00:01\r",
      "\u001b[K     |██████████████████              | 706kB 13.4MB/s eta 0:00:01\r",
      "\u001b[K     |██████████████████▎             | 716kB 13.4MB/s eta 0:00:01\r",
      "\u001b[K     |██████████████████▌             | 727kB 13.4MB/s eta 0:00:01\r",
      "\u001b[K     |██████████████████▊             | 737kB 13.4MB/s eta 0:00:01\r",
      "\u001b[K     |███████████████████             | 747kB 13.4MB/s eta 0:00:01\r",
      "\u001b[K     |███████████████████▎            | 757kB 13.4MB/s eta 0:00:01\r",
      "\u001b[K     |███████████████████▌            | 768kB 13.4MB/s eta 0:00:01\r",
      "\u001b[K     |███████████████████▉            | 778kB 13.4MB/s eta 0:00:01\r",
      "\u001b[K     |████████████████████            | 788kB 13.4MB/s eta 0:00:01\r",
      "\u001b[K     |████████████████████▎           | 798kB 13.4MB/s eta 0:00:01\r",
      "\u001b[K     |████████████████████▋           | 808kB 13.4MB/s eta 0:00:01\r",
      "\u001b[K     |████████████████████▉           | 819kB 13.4MB/s eta 0:00:01\r",
      "\u001b[K     |█████████████████████           | 829kB 13.4MB/s eta 0:00:01\r",
      "\u001b[K     |█████████████████████▍          | 839kB 13.4MB/s eta 0:00:01\r",
      "\u001b[K     |█████████████████████▋          | 849kB 13.4MB/s eta 0:00:01\r",
      "\u001b[K     |██████████████████████          | 860kB 13.4MB/s eta 0:00:01\r",
      "\u001b[K     |██████████████████████▏         | 870kB 13.4MB/s eta 0:00:01\r",
      "\u001b[K     |██████████████████████▍         | 880kB 13.4MB/s eta 0:00:01\r",
      "\u001b[K     |██████████████████████▊         | 890kB 13.4MB/s eta 0:00:01\r",
      "\u001b[K     |███████████████████████         | 901kB 13.4MB/s eta 0:00:01\r",
      "\u001b[K     |███████████████████████▏        | 911kB 13.4MB/s eta 0:00:01\r",
      "\u001b[K     |███████████████████████▌        | 921kB 13.4MB/s eta 0:00:01\r",
      "\u001b[K     |███████████████████████▊        | 931kB 13.4MB/s eta 0:00:01\r",
      "\u001b[K     |████████████████████████        | 942kB 13.4MB/s eta 0:00:01\r",
      "\u001b[K     |████████████████████████▎       | 952kB 13.4MB/s eta 0:00:01\r",
      "\u001b[K     |████████████████████████▌       | 962kB 13.4MB/s eta 0:00:01\r",
      "\u001b[K     |████████████████████████▊       | 972kB 13.4MB/s eta 0:00:01\r",
      "\u001b[K     |█████████████████████████       | 983kB 13.4MB/s eta 0:00:01\r",
      "\u001b[K     |█████████████████████████▎      | 993kB 13.4MB/s eta 0:00:01\r",
      "\u001b[K     |█████████████████████████▌      | 1.0MB 13.4MB/s eta 0:00:01\r",
      "\u001b[K     |█████████████████████████▉      | 1.0MB 13.4MB/s eta 0:00:01\r",
      "\u001b[K     |██████████████████████████      | 1.0MB 13.4MB/s eta 0:00:01\r",
      "\u001b[K     |██████████████████████████▎     | 1.0MB 13.4MB/s eta 0:00:01\r",
      "\u001b[K     |██████████████████████████▋     | 1.0MB 13.4MB/s eta 0:00:01\r",
      "\u001b[K     |██████████████████████████▉     | 1.1MB 13.4MB/s eta 0:00:01\r",
      "\u001b[K     |███████████████████████████     | 1.1MB 13.4MB/s eta 0:00:01\r",
      "\u001b[K     |███████████████████████████▍    | 1.1MB 13.4MB/s eta 0:00:01\r",
      "\u001b[K     |███████████████████████████▋    | 1.1MB 13.4MB/s eta 0:00:01\r",
      "\u001b[K     |███████████████████████████▉    | 1.1MB 13.4MB/s eta 0:00:01\r",
      "\u001b[K     |████████████████████████████▏   | 1.1MB 13.4MB/s eta 0:00:01\r",
      "\u001b[K     |████████████████████████████▍   | 1.1MB 13.4MB/s eta 0:00:01\r",
      "\u001b[K     |████████████████████████████▊   | 1.1MB 13.4MB/s eta 0:00:01\r",
      "\u001b[K     |█████████████████████████████   | 1.1MB 13.4MB/s eta 0:00:01\r",
      "\u001b[K     |█████████████████████████████▏  | 1.1MB 13.4MB/s eta 0:00:01\r",
      "\u001b[K     |█████████████████████████████▌  | 1.2MB 13.4MB/s eta 0:00:01\r",
      "\u001b[K     |█████████████████████████████▊  | 1.2MB 13.4MB/s eta 0:00:01\r",
      "\u001b[K     |██████████████████████████████  | 1.2MB 13.4MB/s eta 0:00:01\r",
      "\u001b[K     |██████████████████████████████▎ | 1.2MB 13.4MB/s eta 0:00:01\r",
      "\u001b[K     |██████████████████████████████▌ | 1.2MB 13.4MB/s eta 0:00:01\r",
      "\u001b[K     |██████████████████████████████▊ | 1.2MB 13.4MB/s eta 0:00:01\r",
      "\u001b[K     |███████████████████████████████ | 1.2MB 13.4MB/s eta 0:00:01\r",
      "\u001b[K     |███████████████████████████████▎| 1.2MB 13.4MB/s eta 0:00:01\r",
      "\u001b[K     |███████████████████████████████▌| 1.2MB 13.4MB/s eta 0:00:01\r",
      "\u001b[K     |███████████████████████████████▉| 1.2MB 13.4MB/s eta 0:00:01\r",
      "\u001b[K     |████████████████████████████████| 1.3MB 13.4MB/s \n",
      "\u001b[?25hRequirement already satisfied: filelock in /usr/local/lib/python3.6/dist-packages (from transformers==3.4.0) (3.0.12)\n",
      "Requirement already satisfied: numpy in /usr/local/lib/python3.6/dist-packages (from transformers==3.4.0) (1.18.5)\n",
      "Collecting tokenizers==0.9.2\n",
      "\u001b[?25l  Downloading https://files.pythonhosted.org/packages/7c/a5/78be1a55b2ac8d6a956f0a211d372726e2b1dd2666bb537fea9b03abd62c/tokenizers-0.9.2-cp36-cp36m-manylinux1_x86_64.whl (2.9MB)\n",
      "\u001b[K     |████████████████████████████████| 2.9MB 47.2MB/s \n",
      "\u001b[?25hRequirement already satisfied: packaging in /usr/local/lib/python3.6/dist-packages (from transformers==3.4.0) (20.4)\n",
      "Requirement already satisfied: requests in /usr/local/lib/python3.6/dist-packages (from transformers==3.4.0) (2.23.0)\n",
      "Collecting sacremoses\n",
      "\u001b[?25l  Downloading https://files.pythonhosted.org/packages/7d/34/09d19aff26edcc8eb2a01bed8e98f13a1537005d31e95233fd48216eed10/sacremoses-0.0.43.tar.gz (883kB)\n",
      "\u001b[K     |████████████████████████████████| 890kB 44.5MB/s \n",
      "\u001b[?25hCollecting sentencepiece!=0.1.92\n",
      "\u001b[?25l  Downloading https://files.pythonhosted.org/packages/e5/2d/6d4ca4bef9a67070fa1cac508606328329152b1df10bdf31fb6e4e727894/sentencepiece-0.1.94-cp36-cp36m-manylinux2014_x86_64.whl (1.1MB)\n",
      "\u001b[K     |████████████████████████████████| 1.1MB 58.5MB/s \n",
      "\u001b[?25hRequirement already satisfied: regex!=2019.12.17 in /usr/local/lib/python3.6/dist-packages (from transformers==3.4.0) (2019.12.20)\n",
      "Requirement already satisfied: protobuf in /usr/local/lib/python3.6/dist-packages (from transformers==3.4.0) (3.12.4)\n",
      "Requirement already satisfied: tqdm>=4.27 in /usr/local/lib/python3.6/dist-packages (from transformers==3.4.0) (4.41.1)\n",
      "Requirement already satisfied: dataclasses; python_version < \"3.7\" in /usr/local/lib/python3.6/dist-packages (from transformers==3.4.0) (0.7)\n",
      "Requirement already satisfied: pyparsing>=2.0.2 in /usr/local/lib/python3.6/dist-packages (from packaging->transformers==3.4.0) (2.4.7)\n",
      "Requirement already satisfied: six in /usr/local/lib/python3.6/dist-packages (from packaging->transformers==3.4.0) (1.15.0)\n",
      "Requirement already satisfied: chardet<4,>=3.0.2 in /usr/local/lib/python3.6/dist-packages (from requests->transformers==3.4.0) (3.0.4)\n",
      "Requirement already satisfied: certifi>=2017.4.17 in /usr/local/lib/python3.6/dist-packages (from requests->transformers==3.4.0) (2020.6.20)\n",
      "Requirement already satisfied: urllib3!=1.25.0,!=1.25.1,<1.26,>=1.21.1 in /usr/local/lib/python3.6/dist-packages (from requests->transformers==3.4.0) (1.24.3)\n",
      "Requirement already satisfied: idna<3,>=2.5 in /usr/local/lib/python3.6/dist-packages (from requests->transformers==3.4.0) (2.10)\n",
      "Requirement already satisfied: click in /usr/local/lib/python3.6/dist-packages (from sacremoses->transformers==3.4.0) (7.1.2)\n",
      "Requirement already satisfied: joblib in /usr/local/lib/python3.6/dist-packages (from sacremoses->transformers==3.4.0) (0.17.0)\n",
      "Requirement already satisfied: setuptools in /usr/local/lib/python3.6/dist-packages (from protobuf->transformers==3.4.0) (50.3.2)\n",
      "Building wheels for collected packages: sacremoses\n",
      "  Building wheel for sacremoses (setup.py) ... \u001b[?25l\u001b[?25hdone\n",
      "  Created wheel for sacremoses: filename=sacremoses-0.0.43-cp36-none-any.whl size=893257 sha256=846693ae843981b1fd215589a06cf91651a41348649136f03ef0d0ed7fb51379\n",
      "  Stored in directory: /root/.cache/pip/wheels/29/3c/fd/7ce5c3f0666dab31a50123635e6fb5e19ceb42ce38d4e58f45\n",
      "Successfully built sacremoses\n",
      "Installing collected packages: tokenizers, sacremoses, sentencepiece, transformers\n",
      "Successfully installed sacremoses-0.0.43 sentencepiece-0.1.94 tokenizers-0.9.2 transformers-3.4.0\n"
     ]
    }
   ],
   "source": []
  },
  {
   "cell_type": "code",
   "execution_count": null,
   "metadata": {
    "colab": {
     "base_uri": "https://localhost:8080/"
    },
    "id": "KI0fAMtvk1qQ",
    "outputId": "264a596a-f706-4799-bb33-e0bcfde4e737"
   },
   "outputs": [],
   "source": [
    "from transformers import AutoTokenizer, AutoModelForSeq2SeqLM  \n",
    "tokenizer = AutoTokenizer.from_pretrained(\"facebook/blenderbot-90M\")  \n",
    "model = AutoModelForSeq2SeqLM.from_pretrained(\"facebook/blenderbot-90M\") "
   ]
  },
  {
   "cell_type": "code",
   "execution_count": 2,
   "metadata": {
    "id": "MFnhXbWFlmxv"
   },
   "outputs": [],
   "source": [
    "# GPT (poetry slam) "
   ]
  },
  {
   "cell_type": "code",
   "execution_count": null,
   "metadata": {
    "id": "9f0Fgl15pTHy"
   },
   "outputs": [],
   "source": [
    "smalltalk_memory(UTTERANCE: str):                                                                              \n"
   ]
  },
  {
   "cell_type": "code",
   "execution_count": 7,
   "metadata": {
    "colab": {
     "base_uri": "https://localhost:8080/"
    },
    "id": "Yk3-WcqKlada",
    "outputId": "810e1dfa-e553-4009-c553-5767e82cd9d6"
   },
   "outputs": [
    {
     "name": "stderr",
     "output_type": "stream",
     "text": [
      "Special tokens have been added in the vocabulary, make sure the associated word embedding are fine-tuned or trained.\n"
     ]
    },
    {
     "name": "stdout",
     "output_type": "stream",
     "text": [
      "[\"it's 1am here. i'm going to have to get up early to go to work.\"]\n"
     ]
    }
   ],
   "source": [
    "blenderbot('What time is it?')"
   ]
  },
  {
   "cell_type": "code",
   "execution_count": 4,
   "metadata": {
    "id": "7EHJC6PXlCuz"
   },
   "outputs": [],
   "source": [
    "# Load the TensorBoard notebook extension\n",
    "%load_ext tensorboard"
   ]
  },
  {
   "cell_type": "code",
   "execution_count": 5,
   "metadata": {
    "colab": {
     "base_uri": "https://localhost:8080/"
    },
    "id": "uKpC1x0XxdHu",
    "outputId": "008067fa-a7a7-4a06-fda4-7caa4db8d8de"
   },
   "outputs": [
    {
     "name": "stderr",
     "output_type": "stream",
     "text": [
      "Special tokens have been added in the vocabulary, make sure the associated word embedding are fine-tuned or trained.\n"
     ]
    },
    {
     "data": {
      "text/plain": [
       "['ĠO ĠO ĠO Ġo Ġo Ġo Ġs Ġs Ġs s s s Ġ Ġ Ġ Ġthe Ġthe Ġthey Ġthey Ġthey Ġ Ġ']"
      ]
     },
     "execution_count": 5,
     "metadata": {
      "tags": []
     },
     "output_type": "execute_result"
    }
   ],
   "source": [
    "blenderbot('What time is it?')"
   ]
  },
  {
   "cell_type": "code",
   "execution_count": null,
   "metadata": {
    "id": "ujusGFT9xdjN"
   },
   "outputs": [],
   "source": []
  }
 ],
 "metadata": {
  "accelerator": "GPU",
  "colab": {
   "collapsed_sections": [],
   "machine_shape": "hm",
   "name": "Comments_are_other_agents",
   "provenance": []
  },
  "kernelspec": {
   "display_name": "Python 3",
   "language": "python",
   "name": "python3"
  },
  "language_info": {
   "codemirror_mode": {
    "name": "ipython",
    "version": 3
   },
   "file_extension": ".py",
   "mimetype": "text/x-python",
   "name": "python",
   "nbconvert_exporter": "python",
   "pygments_lexer": "ipython3",
   "version": "3.8.3"
  }
 },
 "nbformat": 4,
 "nbformat_minor": 1
}
