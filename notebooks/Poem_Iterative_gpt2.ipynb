{
 "cells": [
  {
   "cell_type": "code",
   "execution_count": null,
   "metadata": {},
   "outputs": [],
   "source": [
    "#from transformers import AutoTokenizer, AutoModelWithLMHead  \n",
    "#tokenizer = AutoTokenizer.from_pretrained(\"felixhusen/poem\")  \n",
    "#model = AutoModelWithLMHead.from_pretrained(\"felixhusen/poem\")\n",
    "\n",
    "def iterative_poem_generator()\n",
    "for x in range(0,10):\n",
    "    felixhusen_poem_generator = pipeline(\"text-generation\", model = 'felixhusen/poem') \n",
    "    initial_prompt = 'But inside me, malfunction'\n",
    "    print(felixhusen_poem_generator(initial_prompt, max_length=20, do_sample=False))\n",
    "#[{'generated_text': \"I wish I \\xa0had a better way to get to the bottom of this. I'm not\"}] (if not random)\n",
    "\n",
    "#flexhusen_poem_generator('i’m like a fish out of water, a fish', max_length=30, do_sample=True)\n",
    "\n",
    "[{'generated_text': 'im like a fish out of water a fish out of water\\n\\nI’m not sure'}]\n",
    "[{'generated_text': 'Im not sure if i am alone in this, but i am not alone in this.\\n\\nI am a woman who has never been married. i am a woman who has never been married. i am a woman who has never been married. i am a woman who has never been married. i am a woman who has never been married. i am a woman who has never been married. i am a woman who has never been married. i am a woman who has never been married. i am a woman who has never been married. i am a woman who has never been married. i am a woman who has never been married. i am a woman who has never been married. i am a woman who has never been married. i am a woman who has never been married. i am a woman who has never been married. i am a woman who has never been married. i am a woman who has never been married. i am a woman who has never been married. i am a woman who has never been married. i am a woman who has never been married. i am a woman who has never been married. i am a woman who has never been married. i am a woman who has never been married.'}]\n",
    "\n",
    "poem_lines = ['Im not sure']\n",
    "\n",
    "for x in range(10):\n",
    "    raw_result = felixhusen_poem_generator(poem_lines[x], max_length=25, do_sample=True)\n",
    "    raw_line = raw_result[0]['generated_text']\n",
    "    new_line_with_removed_prompt = raw_line.split(poem_lines[x])[1]\n",
    "    poem_lines.append(new_line_with_removed_prompt)\n",
    "    \n",
    "print(poem_lines)\n",
    "raw_result = felixhusen_poem_generator(poem_lines[x], max_length=25, do_sample=True)\n",
    "raw_result[0]['generated_text']\n",
    "new_line_with_removed_prompt = raw_line.split(poem_lines[x])\n",
    "raw_line.split('Im not sure')[1]\n",
    "\n",
    "poem_lines = ['Im not sure',\n",
    " ' who it is but your imagination is right there where the crows fly\\n\\nLast night the wind caught my',\n",
    " ' dream aflame',\n",
    " '. aflame, my name’s burn aflame. burn, burn, burn. i ask not',\n",
    " ' to be blamed',\n",
    " ' and not wanted.\\n\\nFor laura i love you so dearly, we spent our nights together and sometimes',\n",
    " ' she felt like',\n",
    " ' stepping over a cliff, my heart racing. i felt helpless then. not even being able to walk and speak',\n",
    " ' due to fear',\n",
    " ' of cold or heat) the earth was too close to be safe. the wind was blowing and blowing again.',\n",
    " ' and once more']\n",
    "satti_questions = pipeline(\"question-answering\")\n",
    "context = ''.join(poem_lines)\n",
    "context = context.replace('\\n', '')\n",
    "context = context.replace('’', '')\n",
    "context = context.replace(',', '')\n",
    "#print(context)\n",
    "result = satti_questions(question=\"What is extractive question answering?\", context=context)"
   ]
  }
 ],
 "metadata": {
  "kernelspec": {
   "display_name": "Python 3",
   "language": "python",
   "name": "python3"
  },
  "language_info": {
   "codemirror_mode": {
    "name": "ipython",
    "version": 3
   },
   "file_extension": ".py",
   "mimetype": "text/x-python",
   "name": "python",
   "nbconvert_exporter": "python",
   "pygments_lexer": "ipython3",
   "version": "3.8.3"
  }
 },
 "nbformat": 4,
 "nbformat_minor": 4
}
